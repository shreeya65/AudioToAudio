{
  "nbformat": 4,
  "nbformat_minor": 0,
  "metadata": {
    "colab": {
      "provenance": []
    },
    "kernelspec": {
      "name": "python3",
      "display_name": "Python 3"
    },
    "language_info": {
      "name": "python"
    }
  },
  "cells": [
    {
      "cell_type": "code",
      "source": [
        "!pip install openai-whisper\n",
        "!pip install deep-translator\n",
        "!pip install gtts\n",
        "!pip install ipython\n",
        "!pip install torch  # Required for Whisper to function\n",
        "!pip install ffmpeg-python  # Required for audio processing in Whisper"
      ],
      "metadata": {
        "id": "ptshGoIKruOx"
      },
      "execution_count": null,
      "outputs": []
    },
    {
      "cell_type": "code",
      "source": [
        "!sudo apt update\n",
        "!sudo apt install ffmpeg"
      ],
      "metadata": {
        "id": "W8AcXkbzr1K-"
      },
      "execution_count": null,
      "outputs": []
    },
    {
      "cell_type": "code",
      "source": [
        "#available languages\n",
        "# bn: Bengali\n",
        "# en: English\n",
        "# gu: gujarati\n",
        "# hi: hindi\n",
        "# kn: kannada\n",
        "# mr: marathi\n",
        "# pa: Punjabi\n",
        "# ta: tamil\n",
        "# te: telugu"
      ],
      "metadata": {
        "id": "SzjTz7LTqEvx"
      },
      "execution_count": null,
      "outputs": []
    },
    {
      "cell_type": "code",
      "execution_count": null,
      "metadata": {
        "id": "IBvtudwlp1Ft"
      },
      "outputs": [],
      "source": [
        "#final code for audio to audio translation works for long audios alsoo!!!!------------------------------------\n",
        "\n",
        "import whisper\n",
        "from deep_translator import GoogleTranslator\n",
        "from gtts import gTTS\n",
        "from IPython.display import Audio\n",
        "\n",
        "# Initialize Whisper model for transcription\n",
        "model = whisper.load_model(\"base\")  # You can use 'small', 'medium', or 'large' for better accuracy\n",
        "\n",
        "# Step 1: Transcribe audio using Whisper\n",
        "audio_file = \"/content/Audio_Track.mp3\"  # Replace with the path to your MP3 file\n",
        "\n",
        "print(\"Transcribing audio...\")\n",
        "transcription_result = model.transcribe(audio_file)\n",
        "transcribed_text = transcription_result[\"text\"]\n",
        "print(f\"Recognized Text: {transcribed_text}\")\n",
        "\n",
        "# Step 2: Translate text using Google Translate API\n",
        "target_language = \"hi\"  # Set the language code for the target language, e.g., 'hi' for Hindi\n",
        "translator = GoogleTranslator(source=\"en\", target=target_language)\n",
        "\n",
        "print(\"Translating text...\")\n",
        "# Split the text into chunks of 4500 characters to allow for punctuation and spaces\n",
        "chunk_size = 4500\n",
        "text_chunks = [transcribed_text[i:i + chunk_size] for i in range(0, len(transcribed_text), chunk_size)]\n",
        "\n",
        "translated_chunks = []\n",
        "for chunk in text_chunks:\n",
        "  translated_chunks.append(translator.translate(chunk))\n",
        "\n",
        "# Combine translated chunks\n",
        "translated_text = ''.join(translated_chunks)\n",
        "print(f\"Translated Text: {translated_text}\")\n",
        "\n",
        "# Step 3: Convert translated text to speech using gTTS\n",
        "print(\"Converting translated text to audio...\")\n",
        "translated_audio = gTTS(translated_text, lang=target_language)\n",
        "translated_audio_path = \"translated1_audio.mp3\"\n",
        "translated_audio.save(translated_audio_path)\n",
        "\n",
        "# Step 4: Play the translated audio\n",
        "print(\"Playing translated audio...\")\n",
        "display(Audio(translated_audio_path))"
      ]
    }
  ]
}